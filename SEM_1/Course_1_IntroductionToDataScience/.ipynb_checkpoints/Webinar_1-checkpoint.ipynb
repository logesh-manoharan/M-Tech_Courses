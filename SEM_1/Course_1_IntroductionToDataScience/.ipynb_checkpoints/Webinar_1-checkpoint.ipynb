{
 "cells": [
  {
   "cell_type": "code",
   "execution_count": 4,
   "id": "09961fe6",
   "metadata": {},
   "outputs": [
    {
     "name": "stdout",
     "output_type": "stream",
     "text": [
      "0\n",
      "1\n",
      "2\n",
      "3\n",
      "4\n",
      "5\n",
      "6\n",
      "7\n",
      "8\n",
      "9\n"
     ]
    }
   ],
   "source": [
    "## Webinar - 1\n",
    "\n",
    "## PYTHON BASICS\n",
    "for i in range(0, 10):\n",
    "    print(i)\n"
   ]
  },
  {
   "cell_type": "code",
   "execution_count": 8,
   "id": "1379cbd4",
   "metadata": {},
   "outputs": [
    {
     "name": "stdout",
     "output_type": "stream",
     "text": [
      "20\n",
      "19\n",
      "18\n",
      "17\n",
      "16\n",
      "15\n",
      "14\n",
      "13\n",
      "12\n",
      "11\n"
     ]
    }
   ],
   "source": [
    "for j in range(20, 10, -1):\n",
    "    print(j)"
   ]
  },
  {
   "cell_type": "code",
   "execution_count": 9,
   "id": "5eec6e25",
   "metadata": {},
   "outputs": [
    {
     "data": {
      "text/plain": [
       "bytearray(b'\\x00\\x00\\x00\\x00\\x00\\x00\\x00\\x00\\x00\\x00')"
      ]
     },
     "execution_count": 9,
     "metadata": {},
     "output_type": "execute_result"
    }
   ],
   "source": [
    "bytearray(10)"
   ]
  },
  {
   "cell_type": "code",
   "execution_count": 12,
   "id": "0942874b",
   "metadata": {},
   "outputs": [
    {
     "ename": "TypeError",
     "evalue": "memoryview: a bytes-like object is required, not 'range'",
     "output_type": "error",
     "traceback": [
      "\u001b[1;31m---------------------------------------------------------------------------\u001b[0m",
      "\u001b[1;31mTypeError\u001b[0m                                 Traceback (most recent call last)",
      "\u001b[1;32m<ipython-input-12-3ff8509c0b77>\u001b[0m in \u001b[0;36m<module>\u001b[1;34m\u001b[0m\n\u001b[1;32m----> 1\u001b[1;33m \u001b[0mmemoryview\u001b[0m\u001b[1;33m(\u001b[0m\u001b[0mrange\u001b[0m\u001b[1;33m(\u001b[0m\u001b[1;36m0\u001b[0m\u001b[1;33m,\u001b[0m\u001b[1;36m10\u001b[0m\u001b[1;33m)\u001b[0m\u001b[1;33m)\u001b[0m\u001b[1;33m\u001b[0m\u001b[1;33m\u001b[0m\u001b[0m\n\u001b[0m",
      "\u001b[1;31mTypeError\u001b[0m: memoryview: a bytes-like object is required, not 'range'"
     ]
    }
   ],
   "source": []
  },
  {
   "cell_type": "code",
   "execution_count": null,
   "id": "192826d9",
   "metadata": {},
   "outputs": [],
   "source": [
    "## Files\n",
    "read, write, append, create\n",
    "\n",
    "## Classes\n",
    "\n",
    "## Lambda Functions\n",
    "\n",
    "## libs\n",
    "numpy\n",
    "pandas - helps more when work with files and dataframes\n",
    "matplotlib - visualisation\n",
    "seaborn\n",
    "...heavily used libraries\n",
    "\n",
    "\n",
    "\n"
   ]
  },
  {
   "cell_type": "code",
   "execution_count": null,
   "id": "f870ccb2",
   "metadata": {},
   "outputs": [],
   "source": [
    "## Data Preprocessing\n",
    "\n",
    "# Using Pandas - Readily available method to read the CSV file\n",
    "\n",
    "import pandas as pd\n",
    "\n",
    "# 60 - 70% of work is to prepare the data\n",
    "\n",
    "\n",
    "\n",
    "# reading the data and put it in a Dataframe\n",
    "\n",
    "\n",
    "# about the dataframes\n",
    "    # df.dtypes()\n",
    "    # df.info()\n",
    "\n",
    "    # df.isnull()\n",
    "    \n",
    "## Feature wise (column wise)\n",
    "## Entry wise (row wise)  [axis = 1]\n"
   ]
  }
 ],
 "metadata": {
  "kernelspec": {
   "display_name": "Python 3",
   "language": "python",
   "name": "python3"
  },
  "language_info": {
   "codemirror_mode": {
    "name": "ipython",
    "version": 3
   },
   "file_extension": ".py",
   "mimetype": "text/x-python",
   "name": "python",
   "nbconvert_exporter": "python",
   "pygments_lexer": "ipython3",
   "version": "3.8.5"
  }
 },
 "nbformat": 4,
 "nbformat_minor": 5
}
