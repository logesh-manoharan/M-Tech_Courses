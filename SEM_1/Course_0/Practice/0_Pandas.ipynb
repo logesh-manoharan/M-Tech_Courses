{
 "cells": [
  {
   "cell_type": "code",
   "execution_count": 1,
   "id": "82c984b4",
   "metadata": {},
   "outputs": [],
   "source": [
    "## PANDAS"
   ]
  },
  {
   "cell_type": "code",
   "execution_count": 3,
   "id": "27d2f057",
   "metadata": {},
   "outputs": [],
   "source": [
    "import pandas as pd\n",
    "import numpy as np"
   ]
  },
  {
   "cell_type": "code",
   "execution_count": 10,
   "id": "3d23ee00",
   "metadata": {},
   "outputs": [
    {
     "name": "stdout",
     "output_type": "stream",
     "text": [
      "List :\n",
      " 0    1\n",
      "1    2\n",
      "2    3\n",
      "dtype: int64\n",
      "Array :\n",
      " 0    1\n",
      "1    2\n",
      "2    3\n",
      "3    4\n",
      "4    5\n",
      "5    6\n",
      "6    7\n",
      "7    8\n",
      "8    9\n",
      "dtype: int32\n",
      "Dict :\n",
      " name    logesh\n",
      "age         22\n",
      "dtype: object\n"
     ]
    }
   ],
   "source": [
    "## Series\n",
    "\n",
    "## Why we need series?\n",
    "# We can use our own INDEXING. \n",
    "\n",
    "# list_series = pd.Series(data = [1, 2, 3])    # data attribute\n",
    "list_series = pd.Series([1, 2, 3])     # in List\n",
    "array_series = pd.Series(np.arange(1, 10))\n",
    "dict_series = pd.Series({ 'name': 'logesh', 'age': 22 })\n",
    "\n",
    "print(f\"List :\\n {list_series}\")\n",
    "print(f\"Array :\\n {array_series}\")\n",
    "print(f\"Dict :\\n {dict_series}\")"
   ]
  },
  {
   "cell_type": "code",
   "execution_count": 8,
   "id": "d3039384",
   "metadata": {},
   "outputs": [
    {
     "name": "stdout",
     "output_type": "stream",
     "text": [
      "Custom Indexing : USA     A\n",
      "IND     B\n",
      "USSR    C\n",
      "dtype: object\n"
     ]
    }
   ],
   "source": [
    "## Custom Index\n",
    "\n",
    "characters = pd.Series(['A', 'B', 'C'], index = ['USA', 'IND', 'USSR'])\n",
    "\n",
    "print(f'Custom Indexing : {characters}')"
   ]
  },
  {
   "cell_type": "code",
   "execution_count": 13,
   "id": "7ad37cb0",
   "metadata": {},
   "outputs": [
    {
     "data": {
      "text/plain": [
       "IND      kamalguru\n",
       "USA     logeshlogu\n",
       "USSR           NaN\n",
       "dtype: object"
      ]
     },
     "execution_count": 13,
     "metadata": {},
     "output_type": "execute_result"
    }
   ],
   "source": [
    "# Concatenation over two series\n",
    "\n",
    "## While concatenation, no need to have a same INDEX value. By default, it will take 'NaN' if it value is\n",
    "##...present only in any one of the Series\n",
    "\n",
    "## Addition\n",
    "# series1 = pd.Series(data = [10, 20, 30], index = ['USA', 'USSR', 'IND'])\n",
    "# series2 = pd.Series(data = [30, 40], index = ['USA', 'IND'])\n",
    "\n",
    "## Concatenation\n",
    "series1 = pd.Series(data = ['logesh', 'mano', 'kamal'], index = ['USA', 'USSR', 'IND'])\n",
    "series2 = pd.Series(data = ['logu', 'guru'], index = ['USA', 'IND'])\n",
    "\n",
    "series1 + series2\n",
    "\n",
    "\n",
    "############## End <pandas.Series> ##############"
   ]
  },
  {
   "cell_type": "code",
   "execution_count": 20,
   "id": "155dd78b",
   "metadata": {},
   "outputs": [
    {
     "data": {
      "text/html": [
       "<div>\n",
       "<style scoped>\n",
       "    .dataframe tbody tr th:only-of-type {\n",
       "        vertical-align: middle;\n",
       "    }\n",
       "\n",
       "    .dataframe tbody tr th {\n",
       "        vertical-align: top;\n",
       "    }\n",
       "\n",
       "    .dataframe thead th {\n",
       "        text-align: right;\n",
       "    }\n",
       "</style>\n",
       "<table border=\"1\" class=\"dataframe\">\n",
       "  <thead>\n",
       "    <tr style=\"text-align: right;\">\n",
       "      <th></th>\n",
       "      <th>0</th>\n",
       "      <th>1</th>\n",
       "      <th>2</th>\n",
       "      <th>3</th>\n",
       "    </tr>\n",
       "  </thead>\n",
       "  <tbody>\n",
       "    <tr>\n",
       "      <th>0</th>\n",
       "      <td>0.877587</td>\n",
       "      <td>0.949264</td>\n",
       "      <td>0.478167</td>\n",
       "      <td>0.461119</td>\n",
       "    </tr>\n",
       "    <tr>\n",
       "      <th>1</th>\n",
       "      <td>0.637289</td>\n",
       "      <td>0.324608</td>\n",
       "      <td>0.117578</td>\n",
       "      <td>0.051101</td>\n",
       "    </tr>\n",
       "    <tr>\n",
       "      <th>2</th>\n",
       "      <td>0.637659</td>\n",
       "      <td>0.812266</td>\n",
       "      <td>0.670260</td>\n",
       "      <td>0.651768</td>\n",
       "    </tr>\n",
       "    <tr>\n",
       "      <th>3</th>\n",
       "      <td>0.424569</td>\n",
       "      <td>0.656595</td>\n",
       "      <td>0.209161</td>\n",
       "      <td>0.659925</td>\n",
       "    </tr>\n",
       "    <tr>\n",
       "      <th>4</th>\n",
       "      <td>0.529623</td>\n",
       "      <td>0.748520</td>\n",
       "      <td>0.093757</td>\n",
       "      <td>0.784522</td>\n",
       "    </tr>\n",
       "  </tbody>\n",
       "</table>\n",
       "</div>"
      ],
      "text/plain": [
       "          0         1         2         3\n",
       "0  0.877587  0.949264  0.478167  0.461119\n",
       "1  0.637289  0.324608  0.117578  0.051101\n",
       "2  0.637659  0.812266  0.670260  0.651768\n",
       "3  0.424569  0.656595  0.209161  0.659925\n",
       "4  0.529623  0.748520  0.093757  0.784522"
      ]
     },
     "execution_count": 20,
     "metadata": {},
     "output_type": "execute_result"
    }
   ],
   "source": [
    "## DataFrames(WorkHorse of Pandas) - Table Stuctured Data\n",
    "\n",
    "df = pd.DataFrame(np.random.rand(5, 4))\n",
    "df"
   ]
  },
  {
   "cell_type": "code",
   "execution_count": 21,
   "id": "3212e5ba",
   "metadata": {},
   "outputs": [
    {
     "data": {
      "text/html": [
       "<div>\n",
       "<style scoped>\n",
       "    .dataframe tbody tr th:only-of-type {\n",
       "        vertical-align: middle;\n",
       "    }\n",
       "\n",
       "    .dataframe tbody tr th {\n",
       "        vertical-align: top;\n",
       "    }\n",
       "\n",
       "    .dataframe thead th {\n",
       "        text-align: right;\n",
       "    }\n",
       "</style>\n",
       "<table border=\"1\" class=\"dataframe\">\n",
       "  <thead>\n",
       "    <tr style=\"text-align: right;\">\n",
       "      <th></th>\n",
       "      <th>A</th>\n",
       "      <th>B</th>\n",
       "      <th>C</th>\n",
       "      <th>D</th>\n",
       "    </tr>\n",
       "  </thead>\n",
       "  <tbody>\n",
       "    <tr>\n",
       "      <th>a</th>\n",
       "      <td>0.687242</td>\n",
       "      <td>0.695078</td>\n",
       "      <td>0.496867</td>\n",
       "      <td>0.975361</td>\n",
       "    </tr>\n",
       "    <tr>\n",
       "      <th>b</th>\n",
       "      <td>0.203528</td>\n",
       "      <td>0.299020</td>\n",
       "      <td>0.227656</td>\n",
       "      <td>0.048169</td>\n",
       "    </tr>\n",
       "    <tr>\n",
       "      <th>c</th>\n",
       "      <td>0.903971</td>\n",
       "      <td>0.080104</td>\n",
       "      <td>0.607216</td>\n",
       "      <td>0.630847</td>\n",
       "    </tr>\n",
       "    <tr>\n",
       "      <th>d</th>\n",
       "      <td>0.377942</td>\n",
       "      <td>0.013241</td>\n",
       "      <td>0.842219</td>\n",
       "      <td>0.384938</td>\n",
       "    </tr>\n",
       "    <tr>\n",
       "      <th>e</th>\n",
       "      <td>0.551666</td>\n",
       "      <td>0.710538</td>\n",
       "      <td>0.675279</td>\n",
       "      <td>0.694565</td>\n",
       "    </tr>\n",
       "  </tbody>\n",
       "</table>\n",
       "</div>"
      ],
      "text/plain": [
       "          A         B         C         D\n",
       "a  0.687242  0.695078  0.496867  0.975361\n",
       "b  0.203528  0.299020  0.227656  0.048169\n",
       "c  0.903971  0.080104  0.607216  0.630847\n",
       "d  0.377942  0.013241  0.842219  0.384938\n",
       "e  0.551666  0.710538  0.675279  0.694565"
      ]
     },
     "execution_count": 21,
     "metadata": {},
     "output_type": "execute_result"
    }
   ],
   "source": [
    "## Custom Indexing in DataFrames\n",
    "df = pd.DataFrame(np.random.rand(5, 4), index = ['a', 'b', 'c', 'd', 'e'], columns = ['A', 'B', 'C', 'D'])\n",
    "\n",
    "df"
   ]
  },
  {
   "cell_type": "code",
   "execution_count": 27,
   "id": "8db9436b",
   "metadata": {},
   "outputs": [
    {
     "data": {
      "text/plain": [
       "a    0.687242\n",
       "b    0.203528\n",
       "c    0.903971\n",
       "d    0.377942\n",
       "e    0.551666\n",
       "Name: A, dtype: float64"
      ]
     },
     "execution_count": 27,
     "metadata": {},
     "output_type": "execute_result"
    }
   ],
   "source": [
    "## Accessing the DataFrames\n",
    "\n",
    "df['A']"
   ]
  },
  {
   "cell_type": "code",
   "execution_count": 28,
   "id": "b2e91841",
   "metadata": {},
   "outputs": [
    {
     "data": {
      "text/plain": [
       "pandas.core.series.Series"
      ]
     },
     "execution_count": 28,
     "metadata": {},
     "output_type": "execute_result"
    }
   ],
   "source": [
    "type(df['A'])    # type of COLUMN => Series"
   ]
  },
  {
   "cell_type": "code",
   "execution_count": 29,
   "id": "fd26165b",
   "metadata": {},
   "outputs": [
    {
     "data": {
      "text/plain": [
       "A    0.687242\n",
       "B    0.695078\n",
       "C    0.496867\n",
       "D    0.975361\n",
       "Name: a, dtype: float64"
      ]
     },
     "execution_count": 29,
     "metadata": {},
     "output_type": "execute_result"
    }
   ],
   "source": [
    "df.loc['a']"
   ]
  },
  {
   "cell_type": "code",
   "execution_count": 30,
   "id": "f732e3a9",
   "metadata": {},
   "outputs": [
    {
     "data": {
      "text/plain": [
       "pandas.core.series.Series"
      ]
     },
     "execution_count": 30,
     "metadata": {},
     "output_type": "execute_result"
    }
   ],
   "source": [
    "type(df.loc['a'])   # type of ROW => Series"
   ]
  },
  {
   "cell_type": "code",
   "execution_count": 31,
   "id": "0f94b49e",
   "metadata": {},
   "outputs": [
    {
     "data": {
      "text/html": [
       "<div>\n",
       "<style scoped>\n",
       "    .dataframe tbody tr th:only-of-type {\n",
       "        vertical-align: middle;\n",
       "    }\n",
       "\n",
       "    .dataframe tbody tr th {\n",
       "        vertical-align: top;\n",
       "    }\n",
       "\n",
       "    .dataframe thead th {\n",
       "        text-align: right;\n",
       "    }\n",
       "</style>\n",
       "<table border=\"1\" class=\"dataframe\">\n",
       "  <thead>\n",
       "    <tr style=\"text-align: right;\">\n",
       "      <th></th>\n",
       "      <th>A</th>\n",
       "      <th>B</th>\n",
       "      <th>C</th>\n",
       "      <th>D</th>\n",
       "      <th>new_col</th>\n",
       "    </tr>\n",
       "  </thead>\n",
       "  <tbody>\n",
       "    <tr>\n",
       "      <th>a</th>\n",
       "      <td>0.687242</td>\n",
       "      <td>0.695078</td>\n",
       "      <td>0.496867</td>\n",
       "      <td>0.975361</td>\n",
       "      <td>USA</td>\n",
       "    </tr>\n",
       "    <tr>\n",
       "      <th>b</th>\n",
       "      <td>0.203528</td>\n",
       "      <td>0.299020</td>\n",
       "      <td>0.227656</td>\n",
       "      <td>0.048169</td>\n",
       "      <td>USSR</td>\n",
       "    </tr>\n",
       "    <tr>\n",
       "      <th>c</th>\n",
       "      <td>0.903971</td>\n",
       "      <td>0.080104</td>\n",
       "      <td>0.607216</td>\n",
       "      <td>0.630847</td>\n",
       "      <td>ENG</td>\n",
       "    </tr>\n",
       "    <tr>\n",
       "      <th>d</th>\n",
       "      <td>0.377942</td>\n",
       "      <td>0.013241</td>\n",
       "      <td>0.842219</td>\n",
       "      <td>0.384938</td>\n",
       "      <td>SA</td>\n",
       "    </tr>\n",
       "    <tr>\n",
       "      <th>e</th>\n",
       "      <td>0.551666</td>\n",
       "      <td>0.710538</td>\n",
       "      <td>0.675279</td>\n",
       "      <td>0.694565</td>\n",
       "      <td>SL</td>\n",
       "    </tr>\n",
       "  </tbody>\n",
       "</table>\n",
       "</div>"
      ],
      "text/plain": [
       "          A         B         C         D new_col\n",
       "a  0.687242  0.695078  0.496867  0.975361     USA\n",
       "b  0.203528  0.299020  0.227656  0.048169    USSR\n",
       "c  0.903971  0.080104  0.607216  0.630847     ENG\n",
       "d  0.377942  0.013241  0.842219  0.384938      SA\n",
       "e  0.551666  0.710538  0.675279  0.694565      SL"
      ]
     },
     "execution_count": 31,
     "metadata": {},
     "output_type": "execute_result"
    }
   ],
   "source": [
    "## Creating New Column\n",
    "\n",
    "df['new_col'] = ['USA', 'USSR', 'ENG', 'SA', 'SL']\n",
    "\n",
    "df"
   ]
  },
  {
   "cell_type": "code",
   "execution_count": 32,
   "id": "2295ed18",
   "metadata": {},
   "outputs": [
    {
     "data": {
      "text/html": [
       "<div>\n",
       "<style scoped>\n",
       "    .dataframe tbody tr th:only-of-type {\n",
       "        vertical-align: middle;\n",
       "    }\n",
       "\n",
       "    .dataframe tbody tr th {\n",
       "        vertical-align: top;\n",
       "    }\n",
       "\n",
       "    .dataframe thead th {\n",
       "        text-align: right;\n",
       "    }\n",
       "</style>\n",
       "<table border=\"1\" class=\"dataframe\">\n",
       "  <thead>\n",
       "    <tr style=\"text-align: right;\">\n",
       "      <th></th>\n",
       "      <th>A</th>\n",
       "      <th>B</th>\n",
       "      <th>C</th>\n",
       "      <th>new_col</th>\n",
       "    </tr>\n",
       "  </thead>\n",
       "  <tbody>\n",
       "    <tr>\n",
       "      <th>a</th>\n",
       "      <td>0.687242</td>\n",
       "      <td>0.695078</td>\n",
       "      <td>0.496867</td>\n",
       "      <td>USA</td>\n",
       "    </tr>\n",
       "    <tr>\n",
       "      <th>b</th>\n",
       "      <td>0.203528</td>\n",
       "      <td>0.299020</td>\n",
       "      <td>0.227656</td>\n",
       "      <td>USSR</td>\n",
       "    </tr>\n",
       "    <tr>\n",
       "      <th>c</th>\n",
       "      <td>0.903971</td>\n",
       "      <td>0.080104</td>\n",
       "      <td>0.607216</td>\n",
       "      <td>ENG</td>\n",
       "    </tr>\n",
       "    <tr>\n",
       "      <th>d</th>\n",
       "      <td>0.377942</td>\n",
       "      <td>0.013241</td>\n",
       "      <td>0.842219</td>\n",
       "      <td>SA</td>\n",
       "    </tr>\n",
       "    <tr>\n",
       "      <th>e</th>\n",
       "      <td>0.551666</td>\n",
       "      <td>0.710538</td>\n",
       "      <td>0.675279</td>\n",
       "      <td>SL</td>\n",
       "    </tr>\n",
       "  </tbody>\n",
       "</table>\n",
       "</div>"
      ],
      "text/plain": [
       "          A         B         C new_col\n",
       "a  0.687242  0.695078  0.496867     USA\n",
       "b  0.203528  0.299020  0.227656    USSR\n",
       "c  0.903971  0.080104  0.607216     ENG\n",
       "d  0.377942  0.013241  0.842219      SA\n",
       "e  0.551666  0.710538  0.675279      SL"
      ]
     },
     "execution_count": 32,
     "metadata": {},
     "output_type": "execute_result"
    }
   ],
   "source": [
    "## Dropping Column\n",
    "\n",
    "df.drop('D', axis = 1)"
   ]
  },
  {
   "cell_type": "code",
   "execution_count": 38,
   "id": "c85111d2",
   "metadata": {},
   "outputs": [
    {
     "data": {
      "text/html": [
       "<div>\n",
       "<style scoped>\n",
       "    .dataframe tbody tr th:only-of-type {\n",
       "        vertical-align: middle;\n",
       "    }\n",
       "\n",
       "    .dataframe tbody tr th {\n",
       "        vertical-align: top;\n",
       "    }\n",
       "\n",
       "    .dataframe thead th {\n",
       "        text-align: right;\n",
       "    }\n",
       "</style>\n",
       "<table border=\"1\" class=\"dataframe\">\n",
       "  <thead>\n",
       "    <tr style=\"text-align: right;\">\n",
       "      <th></th>\n",
       "      <th>A</th>\n",
       "      <th>B</th>\n",
       "      <th>C</th>\n",
       "      <th>new_col</th>\n",
       "    </tr>\n",
       "  </thead>\n",
       "  <tbody>\n",
       "    <tr>\n",
       "      <th>a</th>\n",
       "      <td>0.687242</td>\n",
       "      <td>0.695078</td>\n",
       "      <td>0.496867</td>\n",
       "      <td>USA</td>\n",
       "    </tr>\n",
       "    <tr>\n",
       "      <th>b</th>\n",
       "      <td>0.203528</td>\n",
       "      <td>0.299020</td>\n",
       "      <td>0.227656</td>\n",
       "      <td>USSR</td>\n",
       "    </tr>\n",
       "    <tr>\n",
       "      <th>c</th>\n",
       "      <td>0.903971</td>\n",
       "      <td>0.080104</td>\n",
       "      <td>0.607216</td>\n",
       "      <td>ENG</td>\n",
       "    </tr>\n",
       "    <tr>\n",
       "      <th>d</th>\n",
       "      <td>0.377942</td>\n",
       "      <td>0.013241</td>\n",
       "      <td>0.842219</td>\n",
       "      <td>SA</td>\n",
       "    </tr>\n",
       "    <tr>\n",
       "      <th>e</th>\n",
       "      <td>0.551666</td>\n",
       "      <td>0.710538</td>\n",
       "      <td>0.675279</td>\n",
       "      <td>SL</td>\n",
       "    </tr>\n",
       "  </tbody>\n",
       "</table>\n",
       "</div>"
      ],
      "text/plain": [
       "          A         B         C new_col\n",
       "a  0.687242  0.695078  0.496867     USA\n",
       "b  0.203528  0.299020  0.227656    USSR\n",
       "c  0.903971  0.080104  0.607216     ENG\n",
       "d  0.377942  0.013241  0.842219      SA\n",
       "e  0.551666  0.710538  0.675279      SL"
      ]
     },
     "execution_count": 38,
     "metadata": {},
     "output_type": "execute_result"
    }
   ],
   "source": [
    "df"
   ]
  },
  {
   "cell_type": "code",
   "execution_count": 40,
   "id": "c0e66016",
   "metadata": {},
   "outputs": [
    {
     "data": {
      "text/html": [
       "<div>\n",
       "<style scoped>\n",
       "    .dataframe tbody tr th:only-of-type {\n",
       "        vertical-align: middle;\n",
       "    }\n",
       "\n",
       "    .dataframe tbody tr th {\n",
       "        vertical-align: top;\n",
       "    }\n",
       "\n",
       "    .dataframe thead th {\n",
       "        text-align: right;\n",
       "    }\n",
       "</style>\n",
       "<table border=\"1\" class=\"dataframe\">\n",
       "  <thead>\n",
       "    <tr style=\"text-align: right;\">\n",
       "      <th></th>\n",
       "      <th>A</th>\n",
       "      <th>B</th>\n",
       "      <th>new_col</th>\n",
       "    </tr>\n",
       "  </thead>\n",
       "  <tbody>\n",
       "    <tr>\n",
       "      <th>a</th>\n",
       "      <td>0.687242</td>\n",
       "      <td>0.695078</td>\n",
       "      <td>USA</td>\n",
       "    </tr>\n",
       "    <tr>\n",
       "      <th>b</th>\n",
       "      <td>0.203528</td>\n",
       "      <td>0.299020</td>\n",
       "      <td>USSR</td>\n",
       "    </tr>\n",
       "    <tr>\n",
       "      <th>c</th>\n",
       "      <td>0.903971</td>\n",
       "      <td>0.080104</td>\n",
       "      <td>ENG</td>\n",
       "    </tr>\n",
       "    <tr>\n",
       "      <th>d</th>\n",
       "      <td>0.377942</td>\n",
       "      <td>0.013241</td>\n",
       "      <td>SA</td>\n",
       "    </tr>\n",
       "    <tr>\n",
       "      <th>e</th>\n",
       "      <td>0.551666</td>\n",
       "      <td>0.710538</td>\n",
       "      <td>SL</td>\n",
       "    </tr>\n",
       "  </tbody>\n",
       "</table>\n",
       "</div>"
      ],
      "text/plain": [
       "          A         B new_col\n",
       "a  0.687242  0.695078     USA\n",
       "b  0.203528  0.299020    USSR\n",
       "c  0.903971  0.080104     ENG\n",
       "d  0.377942  0.013241      SA\n",
       "e  0.551666  0.710538      SL"
      ]
     },
     "execution_count": 40,
     "metadata": {},
     "output_type": "execute_result"
    }
   ],
   "source": [
    "## By default drop() willn't remove the column permanently from DataFrame.\n",
    "\n",
    "## We should specify 'inplace = True' to remove the column permanently from the DataFrame\n",
    "\n",
    "## Way - 1\n",
    "# df = df.drop('C', axis = 1)\n",
    "# df\n",
    "\n",
    "\n",
    "df.drop('C', axis = 1, inplace = True)\n",
    "df"
   ]
  },
  {
   "cell_type": "code",
   "execution_count": 41,
   "id": "e649ee54",
   "metadata": {},
   "outputs": [
    {
     "data": {
      "text/html": [
       "<div>\n",
       "<style scoped>\n",
       "    .dataframe tbody tr th:only-of-type {\n",
       "        vertical-align: middle;\n",
       "    }\n",
       "\n",
       "    .dataframe tbody tr th {\n",
       "        vertical-align: top;\n",
       "    }\n",
       "\n",
       "    .dataframe thead th {\n",
       "        text-align: right;\n",
       "    }\n",
       "</style>\n",
       "<table border=\"1\" class=\"dataframe\">\n",
       "  <thead>\n",
       "    <tr style=\"text-align: right;\">\n",
       "      <th></th>\n",
       "      <th>A</th>\n",
       "      <th>B</th>\n",
       "      <th>new_col</th>\n",
       "    </tr>\n",
       "  </thead>\n",
       "  <tbody>\n",
       "    <tr>\n",
       "      <th>a</th>\n",
       "      <td>0.687242</td>\n",
       "      <td>0.695078</td>\n",
       "      <td>USA</td>\n",
       "    </tr>\n",
       "    <tr>\n",
       "      <th>b</th>\n",
       "      <td>0.203528</td>\n",
       "      <td>0.299020</td>\n",
       "      <td>USSR</td>\n",
       "    </tr>\n",
       "    <tr>\n",
       "      <th>c</th>\n",
       "      <td>0.903971</td>\n",
       "      <td>0.080104</td>\n",
       "      <td>ENG</td>\n",
       "    </tr>\n",
       "    <tr>\n",
       "      <th>d</th>\n",
       "      <td>0.377942</td>\n",
       "      <td>0.013241</td>\n",
       "      <td>SA</td>\n",
       "    </tr>\n",
       "    <tr>\n",
       "      <th>e</th>\n",
       "      <td>0.551666</td>\n",
       "      <td>0.710538</td>\n",
       "      <td>SL</td>\n",
       "    </tr>\n",
       "  </tbody>\n",
       "</table>\n",
       "</div>"
      ],
      "text/plain": [
       "          A         B new_col\n",
       "a  0.687242  0.695078     USA\n",
       "b  0.203528  0.299020    USSR\n",
       "c  0.903971  0.080104     ENG\n",
       "d  0.377942  0.013241      SA\n",
       "e  0.551666  0.710538      SL"
      ]
     },
     "execution_count": 41,
     "metadata": {},
     "output_type": "execute_result"
    }
   ],
   "source": [
    "df"
   ]
  },
  {
   "cell_type": "code",
   "execution_count": 42,
   "id": "43575af9",
   "metadata": {},
   "outputs": [
    {
     "data": {
      "text/html": [
       "<div>\n",
       "<style scoped>\n",
       "    .dataframe tbody tr th:only-of-type {\n",
       "        vertical-align: middle;\n",
       "    }\n",
       "\n",
       "    .dataframe tbody tr th {\n",
       "        vertical-align: top;\n",
       "    }\n",
       "\n",
       "    .dataframe thead th {\n",
       "        text-align: right;\n",
       "    }\n",
       "</style>\n",
       "<table border=\"1\" class=\"dataframe\">\n",
       "  <thead>\n",
       "    <tr style=\"text-align: right;\">\n",
       "      <th></th>\n",
       "      <th>A</th>\n",
       "      <th>B</th>\n",
       "      <th>new_col</th>\n",
       "      <th>Addition</th>\n",
       "    </tr>\n",
       "  </thead>\n",
       "  <tbody>\n",
       "    <tr>\n",
       "      <th>a</th>\n",
       "      <td>0.687242</td>\n",
       "      <td>0.695078</td>\n",
       "      <td>USA</td>\n",
       "      <td>1.382321</td>\n",
       "    </tr>\n",
       "    <tr>\n",
       "      <th>b</th>\n",
       "      <td>0.203528</td>\n",
       "      <td>0.299020</td>\n",
       "      <td>USSR</td>\n",
       "      <td>0.502548</td>\n",
       "    </tr>\n",
       "    <tr>\n",
       "      <th>c</th>\n",
       "      <td>0.903971</td>\n",
       "      <td>0.080104</td>\n",
       "      <td>ENG</td>\n",
       "      <td>0.984075</td>\n",
       "    </tr>\n",
       "    <tr>\n",
       "      <th>d</th>\n",
       "      <td>0.377942</td>\n",
       "      <td>0.013241</td>\n",
       "      <td>SA</td>\n",
       "      <td>0.391183</td>\n",
       "    </tr>\n",
       "    <tr>\n",
       "      <th>e</th>\n",
       "      <td>0.551666</td>\n",
       "      <td>0.710538</td>\n",
       "      <td>SL</td>\n",
       "      <td>1.262204</td>\n",
       "    </tr>\n",
       "  </tbody>\n",
       "</table>\n",
       "</div>"
      ],
      "text/plain": [
       "          A         B new_col  Addition\n",
       "a  0.687242  0.695078     USA  1.382321\n",
       "b  0.203528  0.299020    USSR  0.502548\n",
       "c  0.903971  0.080104     ENG  0.984075\n",
       "d  0.377942  0.013241      SA  0.391183\n",
       "e  0.551666  0.710538      SL  1.262204"
      ]
     },
     "execution_count": 42,
     "metadata": {},
     "output_type": "execute_result"
    }
   ],
   "source": [
    "## Addition\n",
    "\n",
    "df['Addition'] = df['A'] + df['B']\n",
    "df"
   ]
  },
  {
   "cell_type": "code",
   "execution_count": null,
   "id": "45b7810d",
   "metadata": {},
   "outputs": [],
   "source": []
  },
  {
   "cell_type": "code",
   "execution_count": null,
   "id": "52255b7a",
   "metadata": {},
   "outputs": [],
   "source": []
  }
 ],
 "metadata": {
  "kernelspec": {
   "display_name": "Python 3",
   "language": "python",
   "name": "python3"
  },
  "language_info": {
   "codemirror_mode": {
    "name": "ipython",
    "version": 3
   },
   "file_extension": ".py",
   "mimetype": "text/x-python",
   "name": "python",
   "nbconvert_exporter": "python",
   "pygments_lexer": "ipython3",
   "version": "3.8.5"
  }
 },
 "nbformat": 4,
 "nbformat_minor": 5
}
