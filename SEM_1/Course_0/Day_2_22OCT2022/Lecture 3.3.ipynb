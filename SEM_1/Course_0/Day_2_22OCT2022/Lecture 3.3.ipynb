{
 "cells": [
  {
   "cell_type": "markdown",
   "metadata": {},
   "source": [
    "<b> File Handling <b>"
   ]
  },
  {
   "cell_type": "markdown",
   "metadata": {},
   "source": [
    "<b> Opening a file <b> "
   ]
  },
  {
   "cell_type": "code",
   "execution_count": 20,
   "metadata": {},
   "outputs": [],
   "source": [
    "# f = open(\"C:/Users/lmanoh572/Documents/M_TECH_Courses/SEM_1/Course_0/Day_1_22OCT2022/files/dummy_file.txt\")\n",
    "f = open(\"C:\\\\Users\\\\lmanoh572\\\\Documents\\\\M_TECH_Courses\\\\SEM_1\\\\Course_0\\\\Day_1_22OCT2022\\\\files\\\\dummy_file.txt\")"
   ]
  },
  {
   "cell_type": "code",
   "execution_count": 21,
   "metadata": {},
   "outputs": [],
   "source": [
    "contents = f.read() "
   ]
  },
  {
   "cell_type": "code",
   "execution_count": 22,
   "metadata": {},
   "outputs": [
    {
     "name": "stdout",
     "output_type": "stream",
     "text": [
      "This is demo file. \n",
      "It contains many lines in it. \n",
      "Some lines are big, some are small. \n",
      "Any python program can read this file. \n",
      "Any pythonp program can write into this file. \n"
     ]
    }
   ],
   "source": [
    "print(contents)"
   ]
  },
  {
   "cell_type": "code",
   "execution_count": 24,
   "metadata": {},
   "outputs": [],
   "source": [
    "f.close()"
   ]
  },
  {
   "cell_type": "markdown",
   "metadata": {},
   "source": [
    "<b> data processing on file <b>"
   ]
  },
  {
   "cell_type": "code",
   "execution_count": 25,
   "metadata": {},
   "outputs": [
    {
     "name": "stdout",
     "output_type": "stream",
     "text": [
      "This is demo file. \n",
      "Number of characters : 19\n",
      "Number of words: 4\n",
      "It contains many lines in it. \n",
      "Number of characters : 30\n",
      "Number of words: 6\n",
      "Some lines are big, some are small. \n",
      "Number of characters : 36\n",
      "Number of words: 7\n",
      "Any python program can read this file. \n",
      "Number of characters : 39\n",
      "Number of words: 7\n",
      "Any pythonp program can write into this file. \n",
      "Number of characters : 46\n",
      "Number of words: 8\n"
     ]
    }
   ],
   "source": [
    "file = open(\"files/dummy_file.txt\")\n",
    "\n",
    "contents = file.read()\n",
    "\n",
    "lines = contents.split(\"\\n\")\n",
    "\n",
    "for soni in lines:\n",
    "    print(soni)\n",
    "    print(\"Number of characters :\", len(soni))\n",
    "    words = soni.split()\n",
    "    print(\"Number of words:\", len(words))\n",
    "\n",
    "file.close()\n"
   ]
  },
  {
   "cell_type": "code",
   "execution_count": 26,
   "metadata": {},
   "outputs": [
    {
     "data": {
      "text/plain": [
       "['This is demo file. ',\n",
       " 'It contains many lines in it. ',\n",
       " 'Some lines are big, some are small. ',\n",
       " 'Any python program can read this file. ',\n",
       " 'Any pythonp program can write into this file. ']"
      ]
     },
     "execution_count": 26,
     "metadata": {},
     "output_type": "execute_result"
    }
   ],
   "source": [
    "lines"
   ]
  },
  {
   "cell_type": "markdown",
   "metadata": {},
   "source": [
    "<b> using exceptions <b>"
   ]
  },
  {
   "cell_type": "code",
   "execution_count": 28,
   "metadata": {},
   "outputs": [],
   "source": [
    "try:\n",
    "    file=open(\"files/my_file.txt\")\n",
    "    file.read()\n",
    "    file.close()\n",
    "except Exception as e:\n",
    "    print(\"Some error occurred!\", e)"
   ]
  },
  {
   "cell_type": "markdown",
   "metadata": {},
   "source": [
    "<b> writing into file <b>"
   ]
  },
  {
   "cell_type": "code",
   "execution_count": 29,
   "metadata": {},
   "outputs": [],
   "source": [
    "fout = open(\"files/my_file_write.txt\", \"w\")\n",
    "print(\"This is first stmt\", file=fout)\n",
    "print(\"This is second stmt\", file=fout)\n",
    "print(\"This is third stmt\", file=fout)\n",
    "print(\"This is fourth stmt\", file=fout)\n",
    "fout.close()"
   ]
  },
  {
   "cell_type": "code",
   "execution_count": 32,
   "metadata": {},
   "outputs": [
    {
     "name": "stdout",
     "output_type": "stream",
     "text": [
      "This is first stmt\n",
      "This is second stmt\n",
      "This is third stmt\n",
      "This is fourth stmt\n",
      "\n"
     ]
    }
   ],
   "source": [
    "f = open(\"files/my_file_write.txt\")\n",
    "contents = f.read()\n",
    "print(contents)\n",
    "f.close()"
   ]
  },
  {
   "cell_type": "code",
   "execution_count": 41,
   "metadata": {},
   "outputs": [],
   "source": [
    "# append (\"a\")\n",
    "\n",
    "fappend = open(\"files/my_file_write.txt\", \"a\")\n",
    "print(\"Appending content\", file=fappend)"
   ]
  },
  {
   "cell_type": "code",
   "execution_count": 42,
   "metadata": {},
   "outputs": [],
   "source": [
    "fappend.close()"
   ]
  },
  {
   "cell_type": "code",
   "execution_count": 44,
   "metadata": {},
   "outputs": [
    {
     "name": "stdout",
     "output_type": "stream",
     "text": [
      "This is first stmt\n",
      "This is second stmt\n",
      "This is third stmt\n",
      "This is fourth stmt\n",
      "Appending content\n",
      "\n"
     ]
    }
   ],
   "source": [
    "print(open(\"files/my_file_write.txt\").read())"
   ]
  },
  {
   "cell_type": "code",
   "execution_count": 33,
   "metadata": {},
   "outputs": [
    {
     "name": "stdout",
     "output_type": "stream",
     "text": [
      "Help on built-in function print in module builtins:\n",
      "\n",
      "print(...)\n",
      "    print(value, ..., sep=' ', end='\\n', file=sys.stdout, flush=False)\n",
      "    \n",
      "    Prints the values to a stream, or to sys.stdout by default.\n",
      "    Optional keyword arguments:\n",
      "    file:  a file-like object (stream); defaults to the current sys.stdout.\n",
      "    sep:   string inserted between values, default a space.\n",
      "    end:   string appended after the last value, default a newline.\n",
      "    flush: whether to forcibly flush the stream.\n",
      "\n"
     ]
    }
   ],
   "source": [
    "help(print)"
   ]
  },
  {
   "cell_type": "code",
   "execution_count": 39,
   "metadata": {},
   "outputs": [
    {
     "name": "stdout",
     "output_type": "stream",
     "text": [
      "hello w\n"
     ]
    }
   ],
   "source": [
    "print(\"hello\", end=\" \")\n",
    "print(\"w\")\n"
   ]
  },
  {
   "cell_type": "code",
   "execution_count": 32,
   "metadata": {},
   "outputs": [],
   "source": [
    "fout = open(\"second_file.txt\", \"w\")\n",
    "fout.write(\"1 vijaya 12 34 45\\n\")\n",
    "fout.write(\"2 juhi 11 24 55\\n\")\n",
    "fout.write(\"3 ajay 2 31 75\\n\")\n",
    "fout.close()"
   ]
  },
  {
   "cell_type": "markdown",
   "metadata": {},
   "source": [
    "<b> write using append mode <b>"
   ]
  },
  {
   "cell_type": "code",
   "execution_count": 33,
   "metadata": {},
   "outputs": [],
   "source": [
    "fout=open(\"second_file.txt\", \"a\")\n",
    "fout.write(\"4 prachi 20 30 90\\n\")\n",
    "fout.write(\"4 morey 22 7 89\\n\")\n",
    "fout.close()"
   ]
  },
  {
   "cell_type": "code",
   "execution_count": 34,
   "metadata": {},
   "outputs": [],
   "source": [
    "fout=open(\"second_file.txt\", \"w\")\n",
    "fout.write(\"4 prachi 20 30 90\\n\")\n",
    "fout.write(\"5 morey 22 7 89\\n\")\n",
    "fout.close()"
   ]
  },
  {
   "cell_type": "code",
   "execution_count": null,
   "metadata": {},
   "outputs": [],
   "source": []
  }
 ],
 "metadata": {
  "kernelspec": {
   "display_name": "Python 3",
   "language": "python",
   "name": "python3"
  },
  "language_info": {
   "codemirror_mode": {
    "name": "ipython",
    "version": 3
   },
   "file_extension": ".py",
   "mimetype": "text/x-python",
   "name": "python",
   "nbconvert_exporter": "python",
   "pygments_lexer": "ipython3",
   "version": "3.8.5"
  }
 },
 "nbformat": 4,
 "nbformat_minor": 4
}
